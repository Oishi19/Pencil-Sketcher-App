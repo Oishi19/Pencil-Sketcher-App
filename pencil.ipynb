{
 "cells": [
  {
   "cell_type": "code",
   "execution_count": 1,
   "source": [
    "import cv2"
   ],
   "outputs": [],
   "metadata": {}
  },
  {
   "cell_type": "markdown",
   "source": [
    "### if you want to display the image at every step to see the changes in the image then you need to use two commands; cv2.imshow(“Title You want to give”, Image) and then simply write cv2.waitKey(0). This will display the image."
   ],
   "metadata": {}
  },
  {
   "cell_type": "code",
   "execution_count": 5,
   "source": [
    "image = cv2.imread(\"C:/Users/Oishi/Downloads/download.jpg\")\r\n",
    "cv2.imshow(\"Elephant\", image)\r\n",
    "cv2.waitKey(0)"
   ],
   "outputs": [
    {
     "output_type": "execute_result",
     "data": {
      "text/plain": [
       "-1"
      ]
     },
     "metadata": {},
     "execution_count": 5
    }
   ],
   "metadata": {}
  },
  {
   "cell_type": "markdown",
   "source": [
    "### after reading the image, we will create a new image by converting the original image to greyscale. The next step is to invert the new grayscale image. The next step in the process is to blur the image by using the Gaussian Function in OpenCV. Then the final step is to invert the blurred image, then we can easily convert the image into a pencil sketch."
   ],
   "metadata": {}
  },
  {
   "cell_type": "code",
   "execution_count": 6,
   "source": [
    "gray_image = cv2.cvtColor(image, cv2.COLOR_BGR2GRAY)\r\n",
    "cv2.imshow(\"New Elephant\", gray_image)\r\n",
    "cv2.waitKey(0)"
   ],
   "outputs": [
    {
     "output_type": "execute_result",
     "data": {
      "text/plain": [
       "-1"
      ]
     },
     "metadata": {},
     "execution_count": 6
    }
   ],
   "metadata": {}
  },
  {
   "cell_type": "code",
   "execution_count": 7,
   "source": [
    "inverted_image = 255 - gray_image\r\n",
    "cv2.imshow(\"Inverted\", inverted_image)\r\n",
    "cv2.waitKey()"
   ],
   "outputs": [
    {
     "output_type": "execute_result",
     "data": {
      "text/plain": [
       "-1"
      ]
     },
     "metadata": {},
     "execution_count": 7
    }
   ],
   "metadata": {}
  },
  {
   "cell_type": "code",
   "execution_count": 9,
   "source": [
    "blurred = cv2.GaussianBlur(inverted_image, (21, 21), 0)\r\n",
    "inverted_blurred = 255 - blurred\r\n",
    "pencil_sketch = cv2.divide(gray_image, inverted_blurred, scale=256.0)\r\n",
    "cv2.imshow(\"Sketch\", pencil_sketch)\r\n",
    "cv2.waitKey(0)"
   ],
   "outputs": [
    {
     "output_type": "execute_result",
     "data": {
      "text/plain": [
       "-1"
      ]
     },
     "metadata": {},
     "execution_count": 9
    }
   ],
   "metadata": {}
  },
  {
   "cell_type": "markdown",
   "source": [
    "### finally, if you want to have a look at both the original image and the pencil sketch then you can use the following commands"
   ],
   "metadata": {}
  },
  {
   "cell_type": "code",
   "execution_count": 11,
   "source": [
    "cv2.imshow(\"original image\", image)\r\n",
    "cv2.imshow(\"pencil sketch\", pencil_sketch)\r\n",
    "cv2.waitKey(0)"
   ],
   "outputs": [],
   "metadata": {}
  }
 ],
 "metadata": {
  "orig_nbformat": 4,
  "language_info": {
   "name": "python",
   "version": "3.7.9",
   "mimetype": "text/x-python",
   "codemirror_mode": {
    "name": "ipython",
    "version": 3
   },
   "pygments_lexer": "ipython3",
   "nbconvert_exporter": "python",
   "file_extension": ".py"
  },
  "kernelspec": {
   "name": "python3",
   "display_name": "Python 3.7.9 64-bit"
  },
  "interpreter": {
   "hash": "9c82ffadc2752fb2552d462a34c8cafce5a5fe77de42df08d9fb4699ab65cab9"
  }
 },
 "nbformat": 4,
 "nbformat_minor": 2
}